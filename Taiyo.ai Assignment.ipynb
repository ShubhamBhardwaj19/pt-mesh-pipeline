{
 "cells": [
  {
   "cell_type": "markdown",
   "id": "a5478042",
   "metadata": {},
   "source": [
    "# Libraries are imported"
   ]
  },
  {
   "cell_type": "code",
   "execution_count": null,
   "id": "d7142f0e",
   "metadata": {},
   "outputs": [],
   "source": [
    "# All the required libraries are imported.\n",
    "\n",
    "import requests\n",
    "from bs4 import BeautifulSoup\n",
    "import pandas as pd"
   ]
  },
  {
   "cell_type": "markdown",
   "id": "2b7ad28b",
   "metadata": {},
   "source": [
    "# Two functions are defined"
   ]
  },
  {
   "cell_type": "code",
   "execution_count": null,
   "id": "b4a3e86f",
   "metadata": {},
   "outputs": [],
   "source": [
    "# function data_retrival is created to retrieve data from the assigned website.\n",
    "\n",
    "def data_retrival(page_number):\n",
    "    url = f'https://www.contractsfinder.service.gov.uk/Search/Results?&page={page_number}#dashboard_notices'\n",
    "    data = requests.get(url)\n",
    "    text_storage = BeautifulSoup(data.content, 'html.parser')\n",
    "    \n",
    "    return text_storage"
   ]
  },
  {
   "cell_type": "code",
   "execution_count": null,
   "id": "ed21d7a3",
   "metadata": {},
   "outputs": [],
   "source": [
    "# function data_arrangement is created to clean and arrange the data \n",
    "# in a clean and proper manner and stored in a dictionary.\n",
    "\n",
    "def data_arrangement(contract):\n",
    "    data_dict = {}\n",
    "    title = contract.find('div', attrs = {'class':'search-result-header'})['title']\n",
    "    description = contract.find_all('div', attrs = {'class' : 'wrap-text'})\n",
    "    data_dict['Contract Title'] = title\n",
    "    data_dict['Contract Sub-Title'] = description[0].text\n",
    "    data_dict['Contract Description'] = description[1].text\n",
    "    \n",
    "    return data_dict"
   ]
  },
  {
   "cell_type": "markdown",
   "id": "e7f77d67",
   "metadata": {},
   "source": [
    "# Final Step"
   ]
  },
  {
   "cell_type": "code",
   "execution_count": null,
   "id": "284ed1e8",
   "metadata": {},
   "outputs": [],
   "source": [
    "# here both the functions defined above are used to scrape the data from \n",
    "# the given number of pages on the website and are stored in a list.\n",
    "\n",
    "data_frame = []\n",
    "final_data = data_retrival(1)\n",
    "last_page = final_data.find_all(attrs = {'class' : 'standard-paginate'})\n",
    "max_value = last_page[-1].text.lstrip()\n",
    "\n",
    "for page_number in range(1, int(max_value) + 1):\n",
    "    if page_number != 1:\n",
    "        final_data = data_retrival(page_number)\n",
    "    tenders = final_data.find_all(attrs = {'class' : 'search-result'})\n",
    "    for tender in tenders:\n",
    "        final_output = data_arrangement(tender)\n",
    "        contract_details = tender.find_all('div', attrs = {'class' : \"search-result-entry\"})\n",
    "        for details in contract_details:\n",
    "            key = details.contents[0].text\n",
    "            value = details.contents[1].lstrip()\n",
    "            final_output[key] = value\n",
    "        data_frame.append(final_output)\n",
    "\n",
    "df = pd.DataFrame(data_frame)\n",
    "df.to_csv('solution.csv', index = False)"
   ]
  },
  {
   "cell_type": "code",
   "execution_count": null,
   "id": "b1665438",
   "metadata": {},
   "outputs": [],
   "source": []
  }
 ],
 "metadata": {
  "kernelspec": {
   "display_name": "Python 3 (ipykernel)",
   "language": "python",
   "name": "python3"
  },
  "language_info": {
   "codemirror_mode": {
    "name": "ipython",
    "version": 3
   },
   "file_extension": ".py",
   "mimetype": "text/x-python",
   "name": "python",
   "nbconvert_exporter": "python",
   "pygments_lexer": "ipython3",
   "version": "3.8.13"
  }
 },
 "nbformat": 4,
 "nbformat_minor": 5
}
